{
  "nbformat": 4,
  "nbformat_minor": 0,
  "metadata": {
    "colab": {
      "provenance": [],
      "authorship_tag": "ABX9TyMlHj0D88maTpHC47Afij88",
      "include_colab_link": true
    },
    "kernelspec": {
      "name": "python3",
      "display_name": "Python 3"
    },
    "language_info": {
      "name": "python"
    }
  },
  "cells": [
    {
      "cell_type": "markdown",
      "metadata": {
        "id": "view-in-github",
        "colab_type": "text"
      },
      "source": [
        "<a href=\"https://colab.research.google.com/github/purin1001/Introduction-to-Computers/blob/main/0515.ipynb\" target=\"_parent\"><img src=\"https://colab.research.google.com/assets/colab-badge.svg\" alt=\"Open In Colab\"/></a>"
      ]
    },
    {
      "cell_type": "code",
      "source": [
        "print(\"0515\")"
      ],
      "metadata": {
        "colab": {
          "base_uri": "https://localhost:8080/"
        },
        "id": "rx4nOlc2AtgK",
        "outputId": "d9451b69-8ada-4db2-d25a-f0181b233bab"
      },
      "execution_count": 1,
      "outputs": [
        {
          "output_type": "stream",
          "name": "stdout",
          "text": [
            "0515\n"
          ]
        }
      ]
    },
    {
      "cell_type": "code",
      "source": [
        "rain = input(\"今天會下雨嗎? (Y/N):\")\n",
        "if rain == \"Y\" or rain == \"y\":\n",
        "  print(\"出門記得帶傘!\")\n",
        "else:\n",
        "  print(\"不用帶傘\")\n"
      ],
      "metadata": {
        "colab": {
          "base_uri": "https://localhost:8080/"
        },
        "id": "Tti4lpRwA6z4",
        "outputId": "62c7ba2b-2de0-4081-eac5-915e25de6382"
      },
      "execution_count": 2,
      "outputs": [
        {
          "output_type": "stream",
          "name": "stdout",
          "text": [
            "今天會下雨嗎? (Y/N):n.\n",
            "不用帶傘\n"
          ]
        }
      ]
    },
    {
      "cell_type": "code",
      "source": [
        "體溫 = int(input(\"體溫: \"))\n",
        "if 體溫 >= 37.5:\n",
        "  print('體溫過高!')\n",
        "elif 37.4 >  體溫 > 37:\n",
        "  print('體溫略高!')\n",
        "elif 36.9 > 體溫 > 34:\n",
        "  print('體溫正常!')\n",
        "elif 體溫 < 34:\n",
        "  print('體溫異常,請重新量測!')"
      ],
      "metadata": {
        "colab": {
          "base_uri": "https://localhost:8080/"
        },
        "id": "olHJYPYtByYO",
        "outputId": "53238ea5-768a-47db-d404-45ea299fa1b9"
      },
      "execution_count": 3,
      "outputs": [
        {
          "output_type": "stream",
          "name": "stdout",
          "text": [
            "體溫: 32\n",
            "體溫異常,請重新量測!\n"
          ]
        }
      ]
    },
    {
      "cell_type": "code",
      "source": [
        "score = int(input(\"請輸入成績: \"))\n",
        "if score >= 90:\n",
        "  print('A')\n",
        "elif 89 >= score >= 80:\n",
        "  print('B')\n",
        "elif 79 >= score >= 70:\n",
        "  print('C')\n",
        "elif 69 >= score >= 60:\n",
        "  print('D')\n",
        "else:\n",
        "  print('E')"
      ],
      "metadata": {
        "colab": {
          "base_uri": "https://localhost:8080/"
        },
        "id": "S6G4xwDqDNba",
        "outputId": "07744830-1e50-4356-9975-91776214d213"
      },
      "execution_count": 6,
      "outputs": [
        {
          "output_type": "stream",
          "name": "stdout",
          "text": [
            "請輸入成績: 50\n",
            "E\n"
          ]
        }
      ]
    },
    {
      "cell_type": "code",
      "source": [
        "month = int(input(\"請輸入月份:\"))\n",
        "if month in [3,4,5]:\n",
        "   season = \"春天\"\n",
        "elif month in [5,6.7]:\n",
        "   season = \"夏天\"\n",
        "elif month in [9,10,11]:\n",
        "   season = \"秋天\"\n",
        "elif month in [12,1,2]:\n",
        "   season = \"冬天\"\n",
        "else:\n",
        "  season = \"月份不在範圍內\"\n",
        "print(f\"{month}月是{season}!\")"
      ],
      "metadata": {
        "colab": {
          "base_uri": "https://localhost:8080/"
        },
        "id": "yhyJeg1NFtRQ",
        "outputId": "e1b8262f-7f48-4070-860d-6cd828148b38"
      },
      "execution_count": 8,
      "outputs": [
        {
          "output_type": "stream",
          "name": "stdout",
          "text": [
            "請輸入月份:5\n",
            "5月是春天!\n"
          ]
        }
      ]
    },
    {
      "cell_type": "code",
      "source": [
        "income = int(input(\"請輸入今年收入金額: \"))\n",
        "if income >= 2000000:\n",
        "  tax_rate = 0.3\n",
        "elif income >= 1000000:\n",
        "  tax_rate = 0.21\n",
        "elif income >= 600000:\n",
        "  tax_rate = 0.13\n",
        "elif income >= 300000:\n",
        "  tax_rate = 0.06\n",
        "else:\n",
        "  tax_rate = 0\n",
        "tax_amount = income * tax_rate\n",
        "print(f\"付稅金額: {tax_amount}元\")"
      ],
      "metadata": {
        "colab": {
          "base_uri": "https://localhost:8080/"
        },
        "id": "fjGcv97NHLUt",
        "outputId": "150eceac-e0b4-4d9e-e375-644fa9a874bd"
      },
      "execution_count": 10,
      "outputs": [
        {
          "output_type": "stream",
          "name": "stdout",
          "text": [
            "請輸入今年收入金額: 2000000\n",
            "付稅金額: 600000.0元\n"
          ]
        }
      ]
    }
  ]
}