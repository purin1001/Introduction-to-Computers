{
  "nbformat": 4,
  "nbformat_minor": 0,
  "metadata": {
    "colab": {
      "provenance": [],
      "authorship_tag": "ABX9TyMqwM7vIK4787DXZw12ojko",
      "include_colab_link": true
    },
    "kernelspec": {
      "name": "python3",
      "display_name": "Python 3"
    },
    "language_info": {
      "name": "python"
    }
  },
  "cells": [
    {
      "cell_type": "markdown",
      "metadata": {
        "id": "view-in-github",
        "colab_type": "text"
      },
      "source": [
        "<a href=\"https://colab.research.google.com/github/purin1001/Introduction-to-Computers/blob/main/411601098_%E7%8E%8B%E6%99%A8%E7%92%87_0501.ipynb\" target=\"_parent\"><img src=\"https://colab.research.google.com/assets/colab-badge.svg\" alt=\"Open In Colab\"/></a>"
      ]
    },
    {
      "cell_type": "code",
      "execution_count": null,
      "metadata": {
        "colab": {
          "base_uri": "https://localhost:8080/"
        },
        "id": "kcj9RFsuModO",
        "outputId": "ad69618a-889b-4909-8bc1-86482562e993"
      },
      "outputs": [
        {
          "output_type": "stream",
          "name": "stdout",
          "text": [
            "Hello World\n"
          ]
        }
      ],
      "source": [
        "print(\"Hello World\")"
      ]
    },
    {
      "cell_type": "code",
      "source": [
        "F = 100\n",
        "C = (F-32)*5/9\n",
        "print(round(C,1))"
      ],
      "metadata": {
        "colab": {
          "base_uri": "https://localhost:8080/"
        },
        "id": "0atzqp-kKTWi",
        "outputId": "cb157558-ec7a-46c5-b13b-2cbe5d949b79"
      },
      "execution_count": null,
      "outputs": [
        {
          "output_type": "stream",
          "name": "stdout",
          "text": [
            "37.8\n"
          ]
        }
      ]
    },
    {
      "cell_type": "code",
      "source": [
        "n = 5\n",
        "sum = 0\n",
        "for a in range(1,n+1):\n",
        "  sum += a\n",
        "print(sum)"
      ],
      "metadata": {
        "colab": {
          "base_uri": "https://localhost:8080/"
        },
        "id": "MKIgNfYlKg7C",
        "outputId": "2dae459f-0dd4-4418-e893-b51794dad85c"
      },
      "execution_count": null,
      "outputs": [
        {
          "output_type": "stream",
          "name": "stdout",
          "text": [
            "15\n"
          ]
        }
      ]
    },
    {
      "cell_type": "code",
      "source": [
        "本金 = 10000\n",
        "存款 = 本金*(1.02)**6\n",
        "print(\"本金存款金額為: \",本金)\n",
        "print(\"6年後存款為: \",存款)"
      ],
      "metadata": {
        "colab": {
          "base_uri": "https://localhost:8080/"
        },
        "id": "yt49fxSJLDUi",
        "outputId": "57c97770-7912-47f2-f586-7fccc8a730ab"
      },
      "execution_count": null,
      "outputs": [
        {
          "output_type": "stream",
          "name": "stdout",
          "text": [
            "本金存款金額為:  10000\n",
            "6年後存款為:  11261.62419264\n"
          ]
        }
      ]
    },
    {
      "cell_type": "markdown",
      "source": [],
      "metadata": {
        "id": "u7yEcdOSLFZP"
      }
    }
  ]
}